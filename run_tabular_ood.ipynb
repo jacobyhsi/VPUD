{
 "cells": [
  {
   "cell_type": "code",
   "execution_count": 2,
   "id": "86442d86",
   "metadata": {},
   "outputs": [],
   "source": [
    "import pandas as pd\n",
    "from sklearn.metrics import roc_auc_score"
   ]
  },
  {
   "cell_type": "code",
   "execution_count": 3,
   "id": "87aed4f7",
   "metadata": {},
   "outputs": [
    {
     "name": "stdout",
     "output_type": "stream",
     "text": [
      "AUROC (Total Uncertainty): 0.586\n",
      "AUROC (Epistemic Uncertainty): 0.614\n"
     ]
    }
   ],
   "source": [
    "df_ID = pd.read_csv('results_tabular/OOD/df_beijing_ID_5ICL_20z.csv')\n",
    "df_OOD = pd.read_csv('results_tabular/OOD/df_beijing_OOD_5ICL_20z.csv')\n",
    "\n",
    "df_ID['is_ood'] = 0\n",
    "df_OOD['is_ood'] = 1\n",
    "\n",
    "df_all = pd.concat([df_ID, df_OOD], ignore_index=True)\n",
    "\n",
    "auroc_tu = roc_auc_score(df_all['is_ood'], df_all['TU'])\n",
    "auroc_ve = roc_auc_score(df_all['is_ood'], df_all['Ve'])\n",
    "\n",
    "print(f\"AUROC (Total Uncertainty): {auroc_tu:.3f}\")\n",
    "print(f\"AUROC (Epistemic Uncertainty): {auroc_ve:.3f}\")"
   ]
  },
  {
   "cell_type": "code",
   "execution_count": 4,
   "id": "b6843248",
   "metadata": {},
   "outputs": [
    {
     "name": "stdout",
     "output_type": "stream",
     "text": [
      "AUROC (Total Uncertainty): 0.593\n",
      "AUROC (Epistemic Uncertainty): 0.606\n"
     ]
    }
   ],
   "source": [
    "df_ID = pd.read_csv('results_tabular/OOD/df_ID-iris_OOD-diabetes_ID_5ICL_20z.csv')\n",
    "df_OOD = pd.read_csv('results_tabular/OOD/df_ID-iris_OOD-diabetes_OOD_5ICL_20z.csv')\n",
    "\n",
    "df_ID['is_ood'] = 0\n",
    "df_OOD['is_ood'] = 1\n",
    "\n",
    "df_all = pd.concat([df_ID, df_OOD], ignore_index=True)\n",
    "\n",
    "auroc_tu = roc_auc_score(df_all['is_ood'], df_all['TU'])\n",
    "auroc_ve = roc_auc_score(df_all['is_ood'], df_all['Ve'])\n",
    "\n",
    "print(f\"AUROC (Total Uncertainty): {auroc_tu:.3f}\")\n",
    "print(f\"AUROC (Epistemic Uncertainty): {auroc_ve:.3f}\")"
   ]
  },
  {
   "cell_type": "code",
   "execution_count": 5,
   "id": "6e03fdf7",
   "metadata": {},
   "outputs": [
    {
     "name": "stdout",
     "output_type": "stream",
     "text": [
      "AUROC (Total Uncertainty): 0.047\n",
      "AUROC (Epistemic Uncertainty): 0.887\n"
     ]
    }
   ],
   "source": [
    "df_ID = pd.read_csv('results_tabular/OOD/df_ID_ID-lenses_OOD-beijing_3ICL_20z.csv')\n",
    "df_OOD = pd.read_csv('results_tabular/OOD/df_OOD_ID-lenses_OOD-beijing_3ICL_20z.csv')\n",
    "\n",
    "df_ID['is_ood'] = 0\n",
    "df_OOD['is_ood'] = 1\n",
    "\n",
    "df_all = pd.concat([df_ID, df_OOD], ignore_index=True)\n",
    "\n",
    "auroc_tu = roc_auc_score(df_all['is_ood'], df_all['TU'])\n",
    "auroc_ve = roc_auc_score(df_all['is_ood'], df_all['Ve'])\n",
    "\n",
    "print(f\"AUROC (Total Uncertainty): {auroc_tu:.3f}\")\n",
    "print(f\"AUROC (Epistemic Uncertainty): {auroc_ve:.3f}\")"
   ]
  },
  {
   "cell_type": "code",
   "execution_count": 6,
   "id": "63721b03",
   "metadata": {},
   "outputs": [
    {
     "name": "stdout",
     "output_type": "stream",
     "text": [
      "Accuracy (ID data): 0.350\n"
     ]
    }
   ],
   "source": [
    "accuracy_id = (df_ID['true_label'] == df_ID['pred_label']).mean()\n",
    "print(f\"Accuracy (ID data): {accuracy_id:.3f}\")\n"
   ]
  }
 ],
 "metadata": {
  "kernelspec": {
   "display_name": "venv",
   "language": "python",
   "name": "python3"
  },
  "language_info": {
   "codemirror_mode": {
    "name": "ipython",
    "version": 3
   },
   "file_extension": ".py",
   "mimetype": "text/x-python",
   "name": "python",
   "nbconvert_exporter": "python",
   "pygments_lexer": "ipython3",
   "version": "3.10.12"
  }
 },
 "nbformat": 4,
 "nbformat_minor": 5
}
